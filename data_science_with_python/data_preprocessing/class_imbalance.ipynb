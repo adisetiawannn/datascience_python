{
 "cells": [
  {
   "cell_type": "markdown",
   "metadata": {},
   "source": [
    "# **Class Imbalanced**"
   ]
  },
  {
   "cell_type": "markdown",
   "metadata": {},
   "source": [
    "# **Outline**"
   ]
  },
  {
   "cell_type": "markdown",
   "metadata": {},
   "source": [
    "# **1. Introduction**\n",
    "\n",
    "**What is Class Imbalanced ?**\n",
    "\n",
    "> Imbalanced datasets are a common problem in machine learning, where the number of observations in one class is significantly lower than the others\n",
    "\n",
    "* <mark style = 'background-color : powderblue'> **Class imbalance often appear in machine learing that refers to a scenario in classification problems where the distribution of classes is not uniform** </mark>\n",
    "*  Imbalanced datasets are those where there is a severe skew in the class distribution, For example, in a dataset for fraud detection, there might be only 1% fraudulent transactions and 99% non-fraudulent transactions\n",
    "* Imbalanced datasets apply to many types of models, including binary classification, multiclass classification, multilabel classification, and regression\n",
    "\n",
    "**Why Imbalanced Class is Problem**\n",
    "\n",
    "1. Bias Towards Majority Class: Algorithms tend to be biased towards the majority class due to its overwhelming presence in the training data.\n",
    "\n",
    "2. Inaccurate Metrics: Metrics like accuracy can be misleading in imbalanced scenarios. For example, a model could be 99% accurate by predicting only the majority class, but this would ignore the minority class entirely.\n",
    "\n",
    "3. Underrepresentation of Minority Class: The minority class, which may represent critical outcomes, is underrepresented, leading to poor model performance in predicting those classes.\n",
    "\n",
    "\n",
    "> The rule of thumb facing imbalanced data : \n",
    "* never mess up with your test set. Always split into test and train sets <mark style = 'background-color:powderblue'>**before**</mark> trying oversampling/undersampling techniques!\n",
    "* <mark style = 'background-color:powderblue'>**accuracy metrics**</mark> never helps in imbalanced dataset.\n",
    "\n",
    "\n",
    "\n"
   ]
  },
  {
   "cell_type": "markdown",
   "metadata": {},
   "source": [
    "# **2. Imbalanced Dataset Handling Techniques**\n",
    "\n",
    "Below are various techniques commonly used to handling imbalanced dataset (in this notebook we only deep dive into some techniques)\n",
    "\n",
    "1. Resampling Techniques\n",
    "\n",
    "    a. Oversampling\n",
    "\n",
    "    b. Undersampling\n",
    "\n",
    "    c. SMOTE (Synthetic Minority Over-Sampling Technique)\n",
    "\n",
    "    d. Tomek Links\n",
    "    \n",
    "    e. Edited Nearest Neighbors (ENN)\n",
    "    \n",
    "2. Algorithmic Approaches\n",
    "\n",
    "    a. Class Weight Adjustment\n",
    "    \n",
    "    b. Cost-Sensitive Learning\n",
    "\n",
    "3. Ensemble Methods\n",
    "\n",
    "    a. Balanced Random Forest\n",
    "    \n",
    "    b. EasyEnsemble and BalanceCascade\n",
    "\n",
    "4. Anomaly Detection\n",
    "\n",
    "    a. One-Class SVM\n",
    "\n",
    "    b. Isolation Forest\n",
    "\n",
    "5. Hybrid Methods\n",
    "\n",
    "    a. Combination of Over and Under Sampling (such : SMOTE + Tomek Links)\n",
    "\n",
    "6. Changing Evaluation Metrics\n",
    "\n",
    "* Instead Counting on Accuracy, Use these metrics that better suited for imbalanced dataset :\n",
    "\n",
    "    1. Precision, Recall and F1-Score\n",
    "\n",
    "    2. ROC-AUC, Precision-Recall Curve\n",
    "    \n",
    "* *changing evaluation metrics is not directly fix the imbalance dataset, but improve  how the model is evaluated.*"
   ]
  },
  {
   "cell_type": "markdown",
   "metadata": {},
   "source": [
    "# **3. Metrics for Imbalanced**\n",
    "\n",
    "<p>\n",
    "    <center>\n",
    "        <img src = 'https://raw.githubusercontent.com/adisetiawannn/datascience_python/main/images/evaluation_metrics.png' align='center' width ='800' length ='600' alt = 'pict1'> <br>\n",
    "        Credit : Marcin Rutecki - https://www.kaggle.com/code/marcinrutecki/best-techniques-and-metrics-for-imbalanced-dataset#1.-Introduction\n",
    "    </center>\n",
    "</p>\n",
    "\n",
    "**Why we need consider evaluation metric while facing imbalanced dataset**\n",
    "\n",
    "<mark style = 'background-color : powderblue'>**1. Accuracy Can Be Misleading** : </mark>\n",
    "* In a dataset with 95% instances of the majority class and 5% of the minority class, a model that always predicts the majority class will achieve 95% accuracy, despite never identifying any minority class samples correctly. This gives a false sense of performance\n",
    "\n",
    "<mark style = 'background-color : powderblue'>**2. Focus on Minority Class:**</mark>\n",
    "* In many imbalanced scenarios, the minority class is more critical to predict accurately (e.g., fraud detection, disease diagnosis, defect detection in manufacturing). Evaluating the performance for this class requires specific metrics.\n",
    "\n",
    "<mark style = 'background-color : powderblue'> **3. Different Types of Errors Matter:**</mark>\n",
    "* Imbalanced datasets can lead to different types of errors, such as many false negatives for the minority class. Metrics like precision, recall, and F1-score help to identify how well the model is doing with respect to correctly identifying minority class instances.\n",
    "\n",
    "**Common metrics used for imbalanced data**\n",
    "\n",
    "<mark style = 'background-color : powderblue'>**The most common metrics to use for imbalanced datasets are**:</mark>\n",
    "\n",
    "1. F1 score\n",
    "2. Precision\n",
    "3. Recall\n",
    "4. AUC score (AUC ROC)\n",
    "5. Average precision score (AP)\n",
    "6. G-Mean\n",
    "\n",
    "<mark style = 'background-color : powderblue'>**Choosing metric for imbalanced data**</mark>\n",
    "\n",
    "<p align=\"center\">\n",
    "    <img src= \"https://raw.githubusercontent.com/adisetiawannn/datascience_python/main/images/metric_imbalanced.png\" alt=\"pict2\" ></br>\n",
    "    Credit : Marcin Rutecki - https://www.kaggle.com/code/marcinrutecki/best-techniques-and-metrics-for-imbalanced-dataset#1.-Introduction\n",
    "</p>"
   ]
  },
  {
   "cell_type": "markdown",
   "metadata": {},
   "source": [
    "# **4. Set up Dataset & Baseline Model**"
   ]
  },
  {
   "cell_type": "markdown",
   "metadata": {},
   "source": [
    "## **4.1 About Dataset**\n",
    "\n",
    "in this notebook, we will you fraud detection dataset. you can access the dataset through this link : [Credit Card Fraud Detection](https://www.kaggle.com/datasets/mlg-ulb/creditcardfraud?select=creditcard.csv)\n",
    "\n",
    "* This is the Dictionary of Features of dataset :\n",
    "\n",
    "    * Time : Number of seconds elapsed between this transaction and the first transaction in the dataset\n",
    "\n",
    "    * V1 : may be result of a PCA Dimensionality reduction to protect user identities and sensitive features(v1-v28)\n",
    "\n",
    "    * amount : Transaction amount\n",
    "\n",
    "    * Class : 1 for fraudulent transactions, 0 otherwise"
   ]
  },
  {
   "cell_type": "markdown",
   "metadata": {},
   "source": [
    "in this notebook, we don't do any data pre-processing method such as : handling missing value hand, outliers, do data feature transformation etc.\n",
    "\n",
    "Now, let's talk about some technique that can be used to handle imbalanced data. but first, we need to setup our dataset and baseline model, as follows : \n",
    "\n",
    "1. Importing relevant library and dataset\n",
    "2. Feature Selection : in this notebook, we will drop time feature (we assume this feature is not significantly affect the model)\n",
    "3. check target proportion.\n",
    "4. Splitting Dataset\n",
    "5. Construct Baseline Model - (We will use Logistic Regression)\n",
    "\n",
    "> note : we do not remove any outliers on features & we also skip scaling the features step."
   ]
  },
  {
   "cell_type": "markdown",
   "metadata": {},
   "source": [
    "## **4.2. Check Imbalanced Class on Raw Dataset**"
   ]
  },
  {
   "cell_type": "markdown",
   "metadata": {},
   "source": [
    "### 4.2.1 Import Relevant Packages"
   ]
  },
  {
   "cell_type": "code",
   "execution_count": 39,
   "metadata": {},
   "outputs": [],
   "source": [
    "# Import relevant packages\n",
    "import pandas as pd\n",
    "import numpy as np\n",
    "import matplotlib.pyplot as plt\n",
    "import warnings\n",
    "\n",
    "\n",
    "from sklearn.model_selection import train_test_split\n",
    "from sklearn.linear_model import LogisticRegression\n",
    "\n",
    "from sklearn.metrics import confusion_matrix, classification_report, ConfusionMatrixDisplay, roc_curve, RocCurveDisplay,auc, f1_score,accuracy_score, precision_score, recall_score\n",
    "\n",
    "warnings.filterwarnings('ignore')\n",
    "\n",
    "# Undersampling and Oversampling Packages\n",
    "from imblearn.under_sampling import RandomUnderSampler\n",
    "from imblearn.over_sampling import RandomOverSampler\n",
    "\n",
    "# SMOTE technique to handle imbalanced dataset\n",
    "from imblearn.over_sampling import SMOTE\n",
    "\n",
    "# TOMEK Links technique to handle imbalanced dataset\n",
    "from imblearn.under_sampling import NearMiss\n",
    "\n",
    "# weight class balanced package\n",
    "from sklearn.utils import class_weight\n",
    "\n",
    "# SMOTE+Tomek Links Combination package\n",
    "from imblearn.combine import SMOTETomek\n"
   ]
  },
  {
   "cell_type": "markdown",
   "metadata": {},
   "source": [
    "### 4.2.2 Build Function to Collect all of Evaluation Metrics"
   ]
  },
  {
   "cell_type": "code",
   "execution_count": 8,
   "metadata": {},
   "outputs": [],
   "source": [
    "# build a function that be used to collect metric evaluation results\n",
    "\n",
    "def make_results(model_name:str, y_true,y_pred):\n",
    "    from sklearn.metrics import f1_score, accuracy_score, recall_score, precision_score\n",
    "    \n",
    "    # Extract accuracy, precision, recall, and f1 score from that row\n",
    "    f1 = f1_score(y_true, y_pred)\n",
    "    recall = recall_score(y_true, y_pred)\n",
    "    accuracy = accuracy_score(y_true, y_pred)\n",
    "    precision = precision_score(y_true, y_pred)\n",
    "\n",
    "    # Create table of results\n",
    "    table = pd.DataFrame({'model': [model_name],\n",
    "                          'precision': [precision],\n",
    "                          'recall': [recall],\n",
    "                          'F1': [f1],\n",
    "                          'accuracy': [accuracy],\n",
    "                          },\n",
    "                         )\n",
    "\n",
    "    return table"
   ]
  },
  {
   "cell_type": "markdown",
   "metadata": {},
   "source": [
    "### 4.2.3 Import dataset and Check Imbalanced Class"
   ]
  },
  {
   "cell_type": "code",
   "execution_count": 2,
   "metadata": {},
   "outputs": [
    {
     "data": {
      "image/png": "[encoded data removed]",
      "text/plain": [
       "<Figure size 640x480 with 1 Axes>"
      ]
     },
     "metadata": {},
     "output_type": "display_data"
    },
    {
     "name": "stdout",
     "output_type": "stream",
     "text": [
      "======================================================================================================================================================\n",
      "Proportion of each class:\n",
      "Class\n",
      "0    99.83%\n",
      "1     0.17%\n",
      "Name: count, dtype: object\n"
     ]
    }
   ],
   "source": [
    "# import dataset\n",
    "dataset = pd.read_csv('/Users/Shared/Cloud Drive/repo_adi/dataset/creditcard.csv')\n",
    "\n",
    "# drop time feature\n",
    "dataset = dataset.drop(columns=['Time'],axis=1)\n",
    "\n",
    "# check data proportion on Class Feature\n",
    "class_counts = dataset['Class'].value_counts()\n",
    "\n",
    "class_counts.plot(kind='bar',color=['powderblue', 'darkblue'], title='Others vs. Fraud')\n",
    "plt.xticks(ticks=dataset['Class'].unique(),labels=['Others','Fraud'])\n",
    "\n",
    "# adding label counts\n",
    "for i, count in enumerate(class_counts):\n",
    "    plt.text(i, count + 10, str(count), ha='center', va='bottom', fontsize=10)\n",
    "\n",
    "plt.show()\n",
    "\n",
    "print(\"=====\"*30)\n",
    "\n",
    "percentage_class = class_counts/sum(class_counts)\n",
    "print(f'Proportion of each class:\\n{percentage_class.map(lambda x: \"{:.2%}\".format(x))}')\n"
   ]
  },
  {
   "cell_type": "markdown",
   "metadata": {},
   "source": [
    "notice, target is highly imbalanced. as a Others transaction is majority and Fraud is minority. let's make a train and test data then build a logistic regression model as baseline model in order to evaluate effectiveness of imbalanced data handling techniques.\n"
   ]
  },
  {
   "cell_type": "markdown",
   "metadata": {},
   "source": [
    "## **4.3 Split Dataset : Train and Test Dataset**"
   ]
  },
  {
   "cell_type": "code",
   "execution_count": 3,
   "metadata": {},
   "outputs": [
    {
     "name": "stdout",
     "output_type": "stream",
     "text": [
      "proportion of target features on y_raw_train : Class\n",
      "0    0.998408\n",
      "1    0.001592\n",
      "Name: proportion, dtype: float64\n",
      "========================================================\n",
      "proportion of target features on y_raw_test : Class\n",
      "0    0.998408\n",
      "1    0.001592\n",
      "Name: proportion, dtype: float64\n"
     ]
    }
   ],
   "source": [
    "# ==Split Dataset==\n",
    "\n",
    "# Define target and features\n",
    "raw_target = dataset['Class'].copy()  # Target column (Class)\n",
    "raw_features = dataset.drop(columns=['Class'],axis=1)  # Feature columns\n",
    "\n",
    "# Split dataset\n",
    "X_raw_train, X_raw_test, y_raw_train, y_raw_test = train_test_split(raw_features, raw_target, test_size=0.30, random_state=42)\n",
    "\n",
    "# check proportion of target on train and test dataset\n",
    "print(f'proportion of target features on y_raw_train : {y_raw_test.value_counts(normalize=True)}')\n",
    "print ('=='*28)\n",
    "print(f'proportion of target features on y_raw_test : {y_raw_test.value_counts(normalize=True)}')"
   ]
  },
  {
   "cell_type": "markdown",
   "metadata": {},
   "source": [
    "## **4.3. Construct Baseline Model - Logistic Regression**"
   ]
  },
  {
   "cell_type": "code",
   "execution_count": 4,
   "metadata": {},
   "outputs": [],
   "source": [
    "# baseline model\n",
    "model = LogisticRegression(random_state=42)"
   ]
  },
  {
   "cell_type": "markdown",
   "metadata": {},
   "source": [
    "## **4.4. Train & Evaluate The Baseline Model With Raw Dataset**"
   ]
  },
  {
   "cell_type": "code",
   "execution_count": 18,
   "metadata": {},
   "outputs": [
    {
     "data": {
      "image/png": "[encoded data removed]",
      "text/plain": [
       "<Figure size 640x480 with 2 Axes>"
      ]
     },
     "metadata": {},
     "output_type": "display_data"
    },
    {
     "name": "stdout",
     "output_type": "stream",
     "text": [
      "              precision    recall  f1-score   support\n",
      "\n",
      "           0       1.00      1.00      1.00     85307\n",
      "           1       0.85      0.65      0.74       136\n",
      "\n",
      "    accuracy                           1.00     85443\n",
      "   macro avg       0.92      0.83      0.87     85443\n",
      "weighted avg       1.00      1.00      1.00     85443\n",
      "\n"
     ]
    },
    {
     "data": {
      "text/html": [
       "<div>\n",
       "<style scoped>\n",
       "    .dataframe tbody tr th:only-of-type {\n",
       "        vertical-align: middle;\n",
       "    }\n",
       "\n",
       "    .dataframe tbody tr th {\n",
       "        vertical-align: top;\n",
       "    }\n",
       "\n",
       "    .dataframe thead th {\n",
       "        text-align: right;\n",
       "    }\n",
       "</style>\n",
       "<table border=\"1\" class=\"dataframe\">\n",
       "  <thead>\n",
       "    <tr style=\"text-align: right;\">\n",
       "      <th></th>\n",
       "      <th>model</th>\n",
       "      <th>precision</th>\n",
       "      <th>recall</th>\n",
       "      <th>F1</th>\n",
       "      <th>accuracy</th>\n",
       "    </tr>\n",
       "  </thead>\n",
       "  <tbody>\n",
       "    <tr>\n",
       "      <th>0</th>\n",
       "      <td>baseline_model</td>\n",
       "      <td>0.847619</td>\n",
       "      <td>0.654412</td>\n",
       "      <td>0.738589</td>\n",
       "      <td>0.999263</td>\n",
       "    </tr>\n",
       "  </tbody>\n",
       "</table>\n",
       "</div>"
      ],
      "text/plain": [
       "            model  precision    recall        F1  accuracy\n",
       "0  baseline_model   0.847619  0.654412  0.738589  0.999263"
      ]
     },
     "execution_count": 18,
     "metadata": {},
     "output_type": "execute_result"
    }
   ],
   "source": [
    "# fit raw_dataset to the model\n",
    "model_fit = model.fit(X_raw_train, y_raw_train)\n",
    "y_raw_pred = model_fit.predict(X_raw_test)\n",
    "\n",
    "# display confusion matrix\n",
    "raw_cm = confusion_matrix(y_true=y_raw_test, y_pred=y_raw_pred)\n",
    "\n",
    "raw_disp_cm = ConfusionMatrixDisplay(raw_cm, display_labels=np.where(model.classes_ == 0, 'others : 0', 'fraud : 1'))\n",
    "raw_disp_cm.plot(cmap='plasma')\n",
    "plt.show()\n",
    "\n",
    "# print classification report\n",
    "print(classification_report(y_raw_test, y_raw_pred))\n",
    "make_results(model_name='baseline_model',y_true=y_raw_test, y_pred=y_raw_pred)"
   ]
  },
  {
   "cell_type": "markdown",
   "metadata": {},
   "source": [
    "**Note :** \n",
    "\n",
    "* The overall accuracy is 1.00, which can be misleading due to class imbalance. Since the dataset is heavily skewed towards the majority class (0), a high accuracy might not reflect the actual performance for the minority class (1).\n",
    "\n",
    "* The result Recall score for minority class is 65%. We will try to beat that score.\n",
    "\n",
    "* Then, Let's do imbalanced data technique :)"
   ]
  },
  {
   "cell_type": "markdown",
   "metadata": {},
   "source": [
    "# **5. Implement Imbalanced Data Technique**"
   ]
  },
  {
   "cell_type": "markdown",
   "metadata": {},
   "source": [
    "## **5.1 Resampling**\n",
    "\n",
    "In general, there are 2 common approaches to random resampling for imbalanced dataset : **Downsampling (Undersampling) and Oversampling**.\n",
    "\n",
    "Resampling is the most straightforward way to handle imbalanced data, which involves removing samples from the majority class (undersampling) and/or adding more examples from the minority class (oversampling).\n",
    "\n",
    "Resampling involves creating a new transformed version of the training dataset in which the selected examples have a different class distribution.\n",
    "\n",
    "> Important Note : Always split into test and train sets BEFORE trying any resampling techniques! **Resampling** before splitting the data can allow the exact same observations to be present in both the test and train sets! This can allow our model to simply memorize specific data points and cause overfitting."
   ]
  },
  {
   "cell_type": "markdown",
   "metadata": {},
   "source": [
    "### **5.1.1 Proper Workflow for Handling Imbalanced Datasets with Resampling Techniques:**\n",
    "\n",
    "a. Splitting Data: Begin by using train_test_split to divide the dataset into training and testing sets.\n",
    "\n",
    "> The rule of thumb facing imbalanced data : never mess up with your test set. Always split into test and train sets <mark style = 'background-color:powderblue'>**before**</mark> trying oversampling/undersampling techniques! \n",
    "\n",
    "b. Oversampling/Undersampling on Training Set: Once the data is split, **perform oversampling or undersampling only on the training set**. The test set should remain untouched to ensure realistic evaluation results.\n",
    "\n",
    "c. Training and Evaluation: Train the model on the resampled training data and evaluate its performance on the untouched test set.\n",
    "\n"
   ]
  },
  {
   "cell_type": "markdown",
   "metadata": {},
   "source": [
    "### **5.1.2 Downsampling or Undersampling Method**\n",
    "\n",
    "<mark style = \"background-color : powderblue\">**With downsampling, we decrease the number of examples from the majority class used during model training.**</mark>\n",
    "\n",
    "Downsampling is a solution for handling imbalanced datasets by changing the underlying dataset, rather than the model.\n",
    "\n",
    "you can do downsampling with imbalanced library packages : <mark style = 'background-color : powderblue'>**imblearn.under_sampling**</mark>\n",
    "\n",
    "\n",
    "**How undersampling works**\n",
    "* In an imbalanced dataset, the majority class has significantly more samples than the minority class. <mark style = 'background-color : powderblue'>**Downsampling involves randomly removing or discarding some of the majority class samples until the size of the majority class is reduced to match or come closer to the size of the minority class**.</mark>\n",
    "<p align=\"center\">\n",
    "    <img src= \"https://raw.githubusercontent.com/adisetiawannn/datascience_python/main/images/undersampling.png\" alt=\"pict3\" >\n",
    "</p>"
   ]
  },
  {
   "cell_type": "markdown",
   "metadata": {},
   "source": [
    "#### 5.1.2.1 Apply Downsampling method to train dataset"
   ]
  },
  {
   "cell_type": "code",
   "execution_count": 6,
   "metadata": {},
   "outputs": [
    {
     "data": {
      "image/png": "[encoded data removed]",
      "text/plain": [
       "<Figure size 640x480 with 1 Axes>"
      ]
     },
     "metadata": {},
     "output_type": "display_data"
    },
    {
     "name": "stdout",
     "output_type": "stream",
     "text": [
      "====================================================================================================\n"
     ]
    },
    {
     "data": {
      "text/plain": [
       "Class\n",
       "0    0.5\n",
       "1    0.5\n",
       "Name: proportion, dtype: float64"
      ]
     },
     "execution_count": 6,
     "metadata": {},
     "output_type": "execute_result"
    }
   ],
   "source": [
    "# import downsampling library\n",
    "from imblearn.under_sampling import RandomUnderSampler\n",
    "\n",
    "# make downsampling model\n",
    "downsampling = RandomUnderSampler(sampling_strategy='majority')\n",
    "\n",
    "# fit downsampling model\n",
    "down_X_train,down_y_train = downsampling.fit_resample(X=X_raw_train, y=y_raw_train)\n",
    "\n",
    "# Plot the distribution of undersampling of target data train\n",
    "under_y_train_count = down_y_train.value_counts()\n",
    "\n",
    "# Bar plot\n",
    "under_y_train_count.plot(kind='bar', color=['powderblue', 'darkblue'], title='Others vs. Fraud')\n",
    "plt.xticks(ticks=[0, 1], labels=['Others', 'Fraud'], rotation=0)\n",
    "\n",
    "# Add label counts on top of the bars\n",
    "for i, count in enumerate(under_y_train_count):\n",
    "    plt.text(i, count + 2, str(count), ha='center', va='bottom', fontsize=10)\n",
    "\n",
    "# Show the plot\n",
    "plt.show()\n",
    "\n",
    "print(\"=====\"*20)\n",
    "\n",
    "# Display the class distribution in percentage\n",
    "down_y_train.value_counts(normalize=True)"
   ]
  },
  {
   "cell_type": "markdown",
   "metadata": {},
   "source": [
    "#### 5.1.2.2 Train Baseline Model with Downsampling data"
   ]
  },
  {
   "cell_type": "code",
   "execution_count": 17,
   "metadata": {},
   "outputs": [
    {
     "data": {
      "image/png": "[encoded data removed]",
      "text/plain": [
       "<Figure size 640x480 with 2 Axes>"
      ]
     },
     "metadata": {},
     "output_type": "display_data"
    },
    {
     "name": "stdout",
     "output_type": "stream",
     "text": [
      "              precision    recall  f1-score   support\n",
      "\n",
      "           0       1.00      0.95      0.98     85307\n",
      "           1       0.03      0.93      0.06       136\n",
      "\n",
      "    accuracy                           0.95     85443\n",
      "   macro avg       0.52      0.94      0.52     85443\n",
      "weighted avg       1.00      0.95      0.97     85443\n",
      "\n"
     ]
    },
    {
     "data": {
      "text/html": [
       "<div>\n",
       "<style scoped>\n",
       "    .dataframe tbody tr th:only-of-type {\n",
       "        vertical-align: middle;\n",
       "    }\n",
       "\n",
       "    .dataframe tbody tr th {\n",
       "        vertical-align: top;\n",
       "    }\n",
       "\n",
       "    .dataframe thead th {\n",
       "        text-align: right;\n",
       "    }\n",
       "</style>\n",
       "<table border=\"1\" class=\"dataframe\">\n",
       "  <thead>\n",
       "    <tr style=\"text-align: right;\">\n",
       "      <th></th>\n",
       "      <th>model</th>\n",
       "      <th>precision</th>\n",
       "      <th>recall</th>\n",
       "      <th>F1</th>\n",
       "      <th>accuracy</th>\n",
       "    </tr>\n",
       "  </thead>\n",
       "  <tbody>\n",
       "    <tr>\n",
       "      <th>0</th>\n",
       "      <td>downsampling</td>\n",
       "      <td>0.031227</td>\n",
       "      <td>0.933824</td>\n",
       "      <td>0.060433</td>\n",
       "      <td>0.953782</td>\n",
       "    </tr>\n",
       "  </tbody>\n",
       "</table>\n",
       "</div>"
      ],
      "text/plain": [
       "          model  precision    recall        F1  accuracy\n",
       "0  downsampling   0.031227  0.933824  0.060433  0.953782"
      ]
     },
     "execution_count": 17,
     "metadata": {},
     "output_type": "execute_result"
    }
   ],
   "source": [
    "# isolate target and feature undersampling dataset\n",
    "down_X_train,down_y_train = down_X_train,down_y_train\n",
    "\n",
    "# fit downsampling dataset to the model\n",
    "downsampling_model_fit = model.fit(down_X_train, down_y_train)\n",
    "downsampling_y_pred = downsampling_model_fit.predict(X_raw_test)\n",
    "downsampling_cm = confusion_matrix(y_true=y_raw_test, y_pred=downsampling_y_pred)\n",
    "disp_downsampling_cm = ConfusionMatrixDisplay(downsampling_cm, display_labels=np.where(model.classes_ == 0, 'Others : 0 ', 'Fraud : 1'))\n",
    "disp_downsampling_cm.plot(cmap='Blues')\n",
    "plt.show()\n",
    "\n",
    "# print classification report\n",
    "print(classification_report(y_raw_test, downsampling_y_pred))\n",
    "make_results('downsampling', y_raw_test, downsampling_y_pred)\n"
   ]
  },
  {
   "cell_type": "markdown",
   "metadata": {},
   "source": [
    "### 5.1.3 Oversampling Method\n",
    "\n",
    "\n",
    "**What is Random Oversampling Method**\n",
    "\n",
    "<mark style = \"background-color : powderblue\">**With Oversampling, we increase the number of examples from the minority class used during model training.**</mark>\n",
    "\n",
    "\n",
    "you randomly duplicate instances from the minority class to increase its representation in the dataset. This helps balance the class distribution, ensuring that the machine learning model gets more examples of the minority class, which can lead to better predictions for that class. We can use oversampler method from imblearn packages.\n",
    "\n",
    "**When to Use Random Oversampling Method**\n",
    "\n",
    "1. Use it when you have a highly imbalanced dataset and you want to improve the model’s ability to predict the minority class.\n",
    "2. It works well in cases where the cost of missing the minority class (such as fraud detection, medical diagnosis) is high.\n",
    "\n",
    "**Advantage of Using Random Oversampling Method**\n",
    "\n",
    "1. Improves Model Performance for the Minority Class: By increasing the representation of the minority class, the model can better recognize patterns in that class, leading to better recall and F1-scores.\n",
    "2. Simple to Implement: It’s easy to implement and works well in situations where the minority class is underrepresented but critical to predict.\n",
    "3. Works with Small Datasets: Random oversampling can be effective when the dataset is small and you want to balance the classes without gathering new data.\n",
    "4. Avoids Data Loss: Unlike undersampling (which reduces the majority class), random oversampling doesn’t discard any data\n",
    "\n",
    "**Disadvantages of Random Oversampling**\n",
    "\n",
    "1. Overfitting: The primary risk is overfitting. By replicating the same minority class examples multiple times, the model might become too specialized to those examples, learning specific patterns that don't generalize well to new, unseen data. The model might also become biased toward the repeated minority samples.\n",
    "2. Increased Computational Cost: Since the dataset size increases with oversampling, this can increase the time needed for training and the computational cost, especially for large datasets.\n",
    "3. No New Information: Random oversampling doesn't add any new information to the dataset. It merely duplicates existing data, which doesn't help in learning new patterns or generating better insights.\n",
    "4. Risk of Model Bias: The model might treat oversampled (duplicated) minority class samples as more important than they are, creating potential bias.\n",
    "\n",
    "**How Oversampler Work**\n",
    "\n",
    "<p>\n",
    "    <center>\n",
    "        <img src = \"https://raw.githubusercontent.com/adisetiawannn/datascience_python/main/images/oversampling.png\" alt=\"pict4\"  ></img>\n",
    "    </center>\n",
    "</p>\n",
    "\n"
   ]
  },
  {
   "cell_type": "markdown",
   "metadata": {},
   "source": [
    "#### 5.1.3.1 Apply Oversampling to Train Dataset"
   ]
  },
  {
   "cell_type": "code",
   "execution_count": 16,
   "metadata": {},
   "outputs": [
    {
     "data": {
      "image/png": "[encoded data removed]",
      "text/plain": [
       "<Figure size 640x480 with 1 Axes>"
      ]
     },
     "metadata": {},
     "output_type": "display_data"
    },
    {
     "name": "stdout",
     "output_type": "stream",
     "text": [
      "====================================================================================================\n"
     ]
    },
    {
     "data": {
      "text/plain": [
       "Class\n",
       "0    0.5\n",
       "1    0.5\n",
       "Name: proportion, dtype: float64"
      ]
     },
     "execution_count": 16,
     "metadata": {},
     "output_type": "execute_result"
    }
   ],
   "source": [
    "# import packages : oversampler\n",
    "from imblearn.over_sampling import RandomOverSampler\n",
    "\n",
    "# make oversampling model\n",
    "oversampling = RandomOverSampler(sampling_strategy='minority')\n",
    "\n",
    "# fit oversampling model\n",
    "over_X_train, over_y_train = oversampling.fit_resample(X=X_raw_train, y=y_raw_train)\n",
    "\n",
    "# Plot the distribution of oversampling of target data train\n",
    "over_y_train_count = over_y_train.value_counts()\n",
    "\n",
    "# Bar plot\n",
    "over_y_train_count.plot(kind='bar', color=['powderblue', 'darkblue'], title='Others vs. Fraud')\n",
    "plt.xticks(ticks=[0, 1], labels=['Others', 'Fraud'], rotation=0)\n",
    "\n",
    "# Add label counts on top of the bars\n",
    "for i,count in enumerate(over_y_train_count):\n",
    "    plt.text(i, count+2,str(count),ha='center',va='bottom',fontsize=10)\n",
    "\n",
    "plt.show()\n",
    "\n",
    "\n",
    "print(\"=====\"*20)\n",
    "\n",
    "# Display the class distribution in percentage\n",
    "over_y_train.value_counts(normalize=True)"
   ]
  },
  {
   "cell_type": "markdown",
   "metadata": {},
   "source": [
    "#### 5.1.3.2 Train Baseline Model with Oversampling Dataset"
   ]
  },
  {
   "cell_type": "code",
   "execution_count": 20,
   "metadata": {},
   "outputs": [
    {
     "data": {
      "image/png": "[encoded data removed]",
      "text/plain": [
       "<Figure size 640x480 with 2 Axes>"
      ]
     },
     "metadata": {},
     "output_type": "display_data"
    },
    {
     "name": "stdout",
     "output_type": "stream",
     "text": [
      "              precision    recall  f1-score   support\n",
      "\n",
      "           0       1.00      0.97      0.99     85307\n",
      "           1       0.05      0.93      0.10       136\n",
      "\n",
      "    accuracy                           0.97     85443\n",
      "   macro avg       0.53      0.95      0.54     85443\n",
      "weighted avg       1.00      0.97      0.99     85443\n",
      "\n"
     ]
    },
    {
     "data": {
      "text/html": [
       "<div>\n",
       "<style scoped>\n",
       "    .dataframe tbody tr th:only-of-type {\n",
       "        vertical-align: middle;\n",
       "    }\n",
       "\n",
       "    .dataframe tbody tr th {\n",
       "        vertical-align: top;\n",
       "    }\n",
       "\n",
       "    .dataframe thead th {\n",
       "        text-align: right;\n",
       "    }\n",
       "</style>\n",
       "<table border=\"1\" class=\"dataframe\">\n",
       "  <thead>\n",
       "    <tr style=\"text-align: right;\">\n",
       "      <th></th>\n",
       "      <th>model</th>\n",
       "      <th>precision</th>\n",
       "      <th>recall</th>\n",
       "      <th>F1</th>\n",
       "      <th>accuracy</th>\n",
       "    </tr>\n",
       "  </thead>\n",
       "  <tbody>\n",
       "    <tr>\n",
       "      <th>0</th>\n",
       "      <td>oversampling</td>\n",
       "      <td>0.054287</td>\n",
       "      <td>0.926471</td>\n",
       "      <td>0.102564</td>\n",
       "      <td>0.974193</td>\n",
       "    </tr>\n",
       "  </tbody>\n",
       "</table>\n",
       "</div>"
      ],
      "text/plain": [
       "          model  precision    recall        F1  accuracy\n",
       "0  oversampling   0.054287  0.926471  0.102564  0.974193"
      ]
     },
     "execution_count": 20,
     "metadata": {},
     "output_type": "execute_result"
    }
   ],
   "source": [
    "# isolate target and feature oversampling dataset\n",
    "over_X_train,over_y_train = over_X_train, over_y_train\n",
    "\n",
    "# fit oversampling dataset to the model\n",
    "oversampling_model_fit = model.fit(over_X_train, over_y_train)\n",
    "oversampling_y_pred = oversampling_model_fit.predict(X_raw_test)\n",
    "\n",
    "# evaluate the model\n",
    "over_cm = confusion_matrix(y_true=y_raw_test, y_pred=oversampling_y_pred)\n",
    "disp_over_cm = ConfusionMatrixDisplay(over_cm, display_labels=np.where(model.classes_ == 0, 'Others : 0', 'Fraud : 1'))\n",
    "disp_over_cm.plot(cmap='Blues', values_format='.10g')\n",
    "plt.show()\n",
    "\n",
    "# print classification report\n",
    "print(classification_report(y_raw_test, oversampling_y_pred))\n",
    "make_results('oversampling', y_raw_test, oversampling_y_pred)"
   ]
  },
  {
   "cell_type": "markdown",
   "metadata": {},
   "source": [
    "> from our last two method, oversampling gives better Precision and F1 score than Undersampling."
   ]
  },
  {
   "cell_type": "markdown",
   "metadata": {},
   "source": [
    "### **5.1.4 SMOTE (Synthetic Minority Over-Sampling Technique)**"
   ]
  },
  {
   "cell_type": "markdown",
   "metadata": {},
   "source": [
    "**What is SMOTE Technique** \n",
    "\n",
    "Synthetic Minority Over-sampling Technique (SMOTE) is a technique that generates new observations by **interpolating between observations in the original dataset.**\n",
    "\n",
    "SMOTE is one of popular technique for handling imbalanced dataset.\n",
    "\n",
    "**How SMOTE Works**\n",
    "\n",
    "SMOTE works by selecting examples that are close in the feature space, drawing a line between the examples in the feature space and drawing a new sample at a point along that line.\n",
    "\n",
    "\n",
    "At a high level, the SMOTE algorithm can be described as follows:\n",
    "\n",
    "1. Take difference between a sample and its nearest neighbour\n",
    "2. Multiply the difference by a random number between 0 and 1\n",
    "3. Add this difference to the sample to generate a new synthetic example in feature space\n",
    "4. Continue on with next nearest neighbour up to user-defined number\n",
    "\n",
    "<p>\n",
    "    <center>\n",
    "        <img src = \"https://raw.githubusercontent.com/adisetiawannn/datascience_python/main/images/smote.png\" alt=\"pict4\"  ></img><br>\n",
    "        <p align=\"center\">\n",
    "    <img src= \"https://raw.githubusercontent.com/adisetiawannn/datascience_python/main/images/smote_2.png\" alt=\"pict2\" ></br>\n",
    "    Credit : Niranjan Appaji - https://medium.com/@niranjan.appaji/balancing-act-mastering-imbalanced-data-with-smote-and-tomek-link-strategies-289f39597122\n",
    "</p>\n",
    "    </center>\n",
    "</p>\n",
    "\n",
    "> To implement SMOTE technique, we can use imblearn.over_sampling.SMOTE\n",
    "\n",
    "**Advantages and Disadvantages of Using SMOTE Technique**\n",
    "\n",
    "**Advantages**\n",
    "\n",
    "1. Improves Minority Class Representation\n",
    "2. Reduces Overfitting : risk of overfitting reduced when model memorizes repeated samples.\n",
    "3. Works Well With Various Algorithms\n",
    "4. Improves Performances of Evaluation Metrics\n",
    "5. Maintains Original Data Distribution\n",
    "6. Flexible and Easy to Implement\n",
    "\n",
    "**Disadvantages**\n",
    "\n",
    "1. Risk of Over Generalization : Due to SMOTE inject synthetic data that do not reflect the real data\n",
    "2. Increased Computational Cost\n",
    "3. Not Effective with All Datasets\n",
    "4. Potential Class Overlap"
   ]
  },
  {
   "cell_type": "markdown",
   "metadata": {},
   "source": [
    "#### 5.1.4.1 Apply SMOTE to Train Dataset"
   ]
  },
  {
   "cell_type": "code",
   "execution_count": 24,
   "metadata": {},
   "outputs": [
    {
     "data": {
      "image/png": "[encoded data removed]",
      "text/plain": [
       "<Figure size 640x480 with 1 Axes>"
      ]
     },
     "metadata": {},
     "output_type": "display_data"
    },
    {
     "name": "stdout",
     "output_type": "stream",
     "text": [
      "====================================================================================================\n"
     ]
    },
    {
     "data": {
      "text/plain": [
       "Class\n",
       "0    0.5\n",
       "1    0.5\n",
       "Name: proportion, dtype: float64"
      ]
     },
     "execution_count": 24,
     "metadata": {},
     "output_type": "execute_result"
    }
   ],
   "source": [
    "# SMOTE USING IMBLEARN LIBRARY\n",
    "from imblearn.over_sampling import SMOTE\n",
    "\n",
    "# build smote model\n",
    "smote = SMOTE(random_state=42, k_neighbors = 5)\n",
    "\n",
    "# fit train dataset into smote model\n",
    "smote_X_train, smote_y_train = smote.fit_resample(X=X_raw_train, y=y_raw_train)\n",
    "smote_x_train, smote_y_train = smote.fit_resample (X_raw_train,y_raw_train)\n",
    "\n",
    "# Plot the proportion of smote on target data train\n",
    "smote_y_train_count = smote_y_train.value_counts()\n",
    "\n",
    "# Bar plot\n",
    "smote_y_train_count.plot(kind='bar', color=['powderblue', 'darkblue'], title='Others vs. Fraud')\n",
    "plt.xticks(ticks=[0, 1], labels=['Others', 'Fraud'], rotation=0)\n",
    "\n",
    "# Add label counts on top of the bars\n",
    "for i, count in enumerate(smote_y_train_count):\n",
    "    plt.text(i, count + 2, str(count), ha='center', va='bottom', fontsize=10)\n",
    "\n",
    "# Show the plot\n",
    "plt.show()\n",
    "\n",
    "print(\"=====\"*20)\n",
    "\n",
    "# Display the class distribution in percentage\n",
    "smote_y_train.value_counts(normalize=True)"
   ]
  },
  {
   "cell_type": "markdown",
   "metadata": {},
   "source": [
    "#### 5.1.4.2 Fit SMOTE Dataset into Baseline Model\n"
   ]
  },
  {
   "cell_type": "code",
   "execution_count": 28,
   "metadata": {},
   "outputs": [
    {
     "data": {
      "image/png": "[encoded data removed]",
      "text/plain": [
       "<Figure size 640x480 with 2 Axes>"
      ]
     },
     "metadata": {},
     "output_type": "display_data"
    },
    {
     "name": "stdout",
     "output_type": "stream",
     "text": [
      "              precision    recall  f1-score   support\n",
      "\n",
      "           0       1.00      0.98      0.99     85307\n",
      "           1       0.06      0.92      0.11       136\n",
      "\n",
      "    accuracy                           0.98     85443\n",
      "   macro avg       0.53      0.95      0.55     85443\n",
      "weighted avg       1.00      0.98      0.99     85443\n",
      "\n"
     ]
    },
    {
     "data": {
      "text/html": [
       "<div>\n",
       "<style scoped>\n",
       "    .dataframe tbody tr th:only-of-type {\n",
       "        vertical-align: middle;\n",
       "    }\n",
       "\n",
       "    .dataframe tbody tr th {\n",
       "        vertical-align: top;\n",
       "    }\n",
       "\n",
       "    .dataframe thead th {\n",
       "        text-align: right;\n",
       "    }\n",
       "</style>\n",
       "<table border=\"1\" class=\"dataframe\">\n",
       "  <thead>\n",
       "    <tr style=\"text-align: right;\">\n",
       "      <th></th>\n",
       "      <th>model</th>\n",
       "      <th>precision</th>\n",
       "      <th>recall</th>\n",
       "      <th>F1</th>\n",
       "      <th>accuracy</th>\n",
       "    </tr>\n",
       "  </thead>\n",
       "  <tbody>\n",
       "    <tr>\n",
       "      <th>0</th>\n",
       "      <td>smote</td>\n",
       "      <td>0.059467</td>\n",
       "      <td>0.919118</td>\n",
       "      <td>0.111707</td>\n",
       "      <td>0.976733</td>\n",
       "    </tr>\n",
       "  </tbody>\n",
       "</table>\n",
       "</div>"
      ],
      "text/plain": [
       "   model  precision    recall        F1  accuracy\n",
       "0  smote   0.059467  0.919118  0.111707  0.976733"
      ]
     },
     "execution_count": 28,
     "metadata": {},
     "output_type": "execute_result"
    }
   ],
   "source": [
    "# isolate target and feature SMOTE dataset\n",
    "smote_X_train,smote_y_train = smote_X_train, smote_y_train\n",
    "# fit SMOTE dataset to the model\n",
    "smote_model_fit = model.fit(smote_X_train, smote_y_train)\n",
    "smote_y_pred = smote_model_fit.predict(X_raw_test)\n",
    "\n",
    "# evaluate the model\n",
    "smote_cm = confusion_matrix(y_true=y_raw_test, y_pred=smote_y_pred)\n",
    "disp_smote_cm = ConfusionMatrixDisplay(smote_cm, display_labels=np.where(model.classes_ == 0, 'Others : 0', 'Fraud : 1'))\n",
    "disp_smote_cm.plot(cmap='Blues', values_format='.10g')\n",
    "plt.show()\n",
    "\n",
    "# print classification report\n",
    "print(classification_report(y_raw_test, smote_y_pred))\n",
    "make_results('smote', y_raw_test, smote_y_pred)"
   ]
  },
  {
   "cell_type": "markdown",
   "metadata": {},
   "source": [
    "### **5.1.5 Tomek Links**\n",
    "\n",
    "**What is Tomek Links**\n",
    "\n",
    "Tomek Links is an undersampling technique used to handle imbalanced datasets by identifying and removing samples from the majority class that are close to samples from the minority class\n",
    "\n",
    "It’s often used in combination with other techniques for handling imbalanced data. In summary, Tomek undersampling targets the removal of instances involved in Tomek Links to enhance the discrimination between classes, particularly focusing on the minority class near the decision boundary.\n",
    "\n",
    "**How Tomek Links Work**\n",
    "\n",
    "<p>\n",
    "    <center>\n",
    "        <img src = \"https://raw.githubusercontent.com/adisetiawannn/datascience_python/main/images/tomek_links.png\" alt=\"pict4\"  ></img>\n",
    "    </center>\n",
    "</p>\n",
    "\n",
    "> To use tomek links method, we can use imblearn.undersampling.NearMiss\n",
    "\n",
    "**Advantages and Disadvantages of Tomek Links Method**\n",
    "\n",
    "* The advantages of using Tomek links include their simplicity, effectiveness in reducing noise and improving classification accuracy, and the ability to identify important instances from the minority class.\n",
    "\n",
    "* A disadvantage of using Tomek links is that removing too many instances from the majority class can lead to underfitting and a decrease in overall classification performance."
   ]
  },
  {
   "cell_type": "markdown",
   "metadata": {},
   "source": [
    "#### 5.1.5.1 Apply Tomek Links Method to Train Dataset"
   ]
  },
  {
   "cell_type": "code",
   "execution_count": 31,
   "metadata": {},
   "outputs": [
    {
     "data": {
      "image/png": "[encoded data removed]",
      "text/plain": [
       "<Figure size 640x480 with 1 Axes>"
      ]
     },
     "metadata": {},
     "output_type": "display_data"
    },
    {
     "name": "stdout",
     "output_type": "stream",
     "text": [
      "====================================================================================================\n"
     ]
    },
    {
     "data": {
      "text/plain": [
       "Class\n",
       "0    0.5\n",
       "1    0.5\n",
       "Name: proportion, dtype: float64"
      ]
     },
     "execution_count": 31,
     "metadata": {},
     "output_type": "execute_result"
    }
   ],
   "source": [
    "# Apply Tomek Links to Train Dataset\n",
    "from imblearn.under_sampling import NearMiss\n",
    "\n",
    "# build tomek links model\n",
    "tomek = NearMiss(n_neighbors=3)\n",
    "\n",
    "# fit train dataset into smote model\n",
    "tomek_x_train, tomek_y_train = tomek.fit_resample(X_raw_train,y_raw_train)\n",
    "\n",
    "# Plot the proportion of smote on target data train\n",
    "tomek_y_train_count = tomek_y_train.value_counts()\n",
    "\n",
    "# Bar plot\n",
    "tomek_y_train_count.plot(kind='bar', color=['powderblue', 'darkblue'], title='Others vs. Fraud')\n",
    "plt.xticks(ticks=[0, 1], labels=['Others', 'Fraud'], rotation=0)\n",
    "\n",
    "# Add label counts on top of the bars\n",
    "for i, count in enumerate(tomek_y_train_count):\n",
    "    plt.text(i, count + 2, str(count), ha='center', va='bottom', fontsize=10)\n",
    "\n",
    "# Show the plot\n",
    "plt.show()\n",
    "\n",
    "print(\"=====\"*20)\n",
    "\n",
    "# Display the class distribution in percentage\n",
    "tomek_y_train.value_counts(normalize=True)"
   ]
  },
  {
   "cell_type": "markdown",
   "metadata": {},
   "source": [
    "#### 5.1.5.2 Train Baseline Model with Tomek Links Dataset"
   ]
  },
  {
   "cell_type": "code",
   "execution_count": 36,
   "metadata": {},
   "outputs": [
    {
     "data": {
      "image/png": "[encoded data removed]",
      "text/plain": [
       "<Figure size 640x480 with 2 Axes>"
      ]
     },
     "metadata": {},
     "output_type": "display_data"
    },
    {
     "name": "stdout",
     "output_type": "stream",
     "text": [
      "              precision    recall  f1-score   support\n",
      "\n",
      "           0       1.00      0.15      0.26     85307\n",
      "           1       0.00      0.97      0.00       136\n",
      "\n",
      "    accuracy                           0.15     85443\n",
      "   macro avg       0.50      0.56      0.13     85443\n",
      "weighted avg       1.00      0.15      0.26     85443\n",
      "\n",
      "   model  precision    recall        F1  accuracy\n",
      "0  smote   0.059467  0.919118  0.111707  0.976733\n"
     ]
    },
    {
     "data": {
      "text/html": [
       "<div>\n",
       "<style scoped>\n",
       "    .dataframe tbody tr th:only-of-type {\n",
       "        vertical-align: middle;\n",
       "    }\n",
       "\n",
       "    .dataframe tbody tr th {\n",
       "        vertical-align: top;\n",
       "    }\n",
       "\n",
       "    .dataframe thead th {\n",
       "        text-align: right;\n",
       "    }\n",
       "</style>\n",
       "<table border=\"1\" class=\"dataframe\">\n",
       "  <thead>\n",
       "    <tr style=\"text-align: right;\">\n",
       "      <th></th>\n",
       "      <th>model</th>\n",
       "      <th>precision</th>\n",
       "      <th>recall</th>\n",
       "      <th>F1</th>\n",
       "      <th>accuracy</th>\n",
       "    </tr>\n",
       "  </thead>\n",
       "  <tbody>\n",
       "    <tr>\n",
       "      <th>0</th>\n",
       "      <td>tomek</td>\n",
       "      <td>0.001818</td>\n",
       "      <td>0.970588</td>\n",
       "      <td>0.00363</td>\n",
       "      <td>0.151856</td>\n",
       "    </tr>\n",
       "  </tbody>\n",
       "</table>\n",
       "</div>"
      ],
      "text/plain": [
       "   model  precision    recall       F1  accuracy\n",
       "0  tomek   0.001818  0.970588  0.00363  0.151856"
      ]
     },
     "execution_count": 36,
     "metadata": {},
     "output_type": "execute_result"
    }
   ],
   "source": [
    "# isolate target and feature tomek links dataset\n",
    "tomek_x_train,tomek_y_train = tomek_x_train, tomek_y_train\n",
    "\n",
    "# fit tomek links dataset to the model\n",
    "tomek_model_fit = model.fit(tomek_x_train, tomek_y_train)\n",
    "tomek_y_pred = tomek_model_fit.predict(X_raw_test)\n",
    "\n",
    "# evaluate the model\n",
    "tomek_cm = confusion_matrix(y_true=y_raw_test, y_pred=tomek_y_pred)\n",
    "disp_tomek_cm = ConfusionMatrixDisplay(tomek_cm, display_labels=np.where(tomek_model_fit.classes_ == 0, 'Others : 0', 'Fraud : 1'))\n",
    "disp_tomek_cm.plot(cmap='Blues', values_format='.10g')\n",
    "plt.show()\n",
    "\n",
    "# print classification report\n",
    "print(classification_report(y_raw_test, tomek_y_pred))\n",
    "print(make_results('smote', y_raw_test, smote_y_pred))\n",
    "make_results('tomek', y_raw_test, tomek_y_pred)\n"
   ]
  },
  {
   "cell_type": "markdown",
   "metadata": {},
   "source": [
    "### **5.1.6 Conclusion of Using Resampling Method on Handling Imbalanced Dataset**\n",
    "\n",
    "**Advantages and Disadvantages of Resampling Methods:**\n",
    "\n",
    "**Advantages:**\n",
    "1. Improves Class Balance: By balancing the number of instances for each class, resampling methods allow machine learning algorithms to focus on minority classes that would otherwise be overlooked.\n",
    "2. Simple and Easy to Implement: Methods like random oversampling and undersampling are straightforward to apply using libraries like imblearn.\n",
    "3. Improves Recall for Minority Class: Especially with oversampling, the model gets more exposure to minority class samples, which can improve recall for rare events.\n",
    "\n",
    "**Disadvantages:**\n",
    "1. Overfitting (with Oversampling): Oversampling, particularly with random oversampling, may lead to overfitting since it duplicates instances of the minority class. This causes the model to \"memorize\" the training examples.\n",
    "2. Loss of Information (with Undersampling): Undersampling reduces the dataset size by removing samples from the majority class, which can result in loss of valuable information.\n",
    "3. Computational Cost: Oversampling methods increase the size of the dataset, which may lead to longer training times and higher memory consumption.\n",
    "Bias (with Undersampling): Since undersampling removes data points, it may introduce bias by omitting important instances from the majority class, affecting the model's generalization.\n",
    "\n",
    "**Below are comparison of Advantages and Disadvantages Using Downsampling dan Oversampling on Handling Imbalanced Dataset**\n",
    "\n",
    "| **Method**      | **Advantages**                                                                 | **Disadvantages**                                                              |\n",
    "|-----------------|--------------------------------------------------------------------------------|--------------------------------------------------------------------------------|\n",
    "| **Oversampling** | - Improves recall for the minority class                                       | - High risk of overfitting, especially with random oversampling                |\n",
    "|                 | - Easy to implement with libraries like `imblearn`                             | - Increases dataset size, leading to higher computational costs                |\n",
    "|                 | - Allows the model to learn better from the minority class                     | - May not handle minority class variance effectively (duplicate samples)       |\n",
    "| **Undersampling**| - Reduces training time due to smaller dataset size                           | - Loss of important information from majority class                            |\n",
    "|                 | - Simple and fast to implement                                                 | - Can introduce bias by eliminating too many instances from the majority class |\n",
    "|                 | - Can be combined with other techniques for improved performance               | - May result in an under-represented majority class                            |\n"
   ]
  },
  {
   "cell_type": "markdown",
   "metadata": {},
   "source": [
    "# **6. Algorithmic Approaches**"
   ]
  },
  {
   "cell_type": "markdown",
   "metadata": {},
   "source": [
    "### 6.1 **Cost Sensitive Learning - Weighted Balanced**\n",
    "\n",
    "> the goal of cost-sensitive learning is to penalize the model more for misclassifying the minority class than the majority class\n",
    "\n",
    "**What is Weighted Balanced**\n",
    "\n",
    "The concept of class weights involves assigning a higher penalty or higher importance to misclassifications of the minority class.\n",
    "\n",
    "a machine learning model tends to favor the majority class because it appears more frequently. This bias can lead to poor performance in predicting the minority class\n",
    "\n",
    "when using weight class, we assign higher weights to the minority class and lower to the majority class.\n",
    "\n",
    "with this method, we can increase recall, f1 and precision score for minority class.\n",
    "\n",
    "**Algorithm that support Weight Class**\n",
    "\n",
    "1. Logistic Regression\n",
    "2. SVM (Support Vector Machine)\n",
    "3. Decision Tree\n",
    "4. Random Forest\n",
    "\n",
    "**How Class Weights Work:**\n",
    "\n",
    "In practice, many algorithms like Logistic Regression, Random Forest, SVM, and others allow for setting class_weight='balanced' or manually specifying weights.\n",
    "\n",
    "* class_weight='balanced' -> also called **inversely proportional**: Automatically adjusts the class weights inversely proportional to the class frequencies.\n",
    "\n",
    "    * if we set, class_weight='balanced', it's equal to use the inverse of class frequency. the formula is :\n",
    "\n",
    "        * class weight = $\\frac{n_{total samples}}{n_{classes} \\times n_{class samples}}$\n",
    "\n",
    "        Where :\n",
    "        * $n_{totalsamples}$ : total number of samples in the dataset.\n",
    "        * $n_{classes}$ : total number of classes.\n",
    "        * $n_{class samples}$ : number of samples in a particular class.\n",
    "\n",
    "        Example : suppose we have dataset with 1000 rows, then the proportion is 90% majority class (label = 0) and 10% minority class (label=1), the weight each class is :\n",
    "\n",
    "        * class weight of majority class = $\\frac{1000}{2 \\times 900} =0.556$\n",
    "\n",
    "        * class weight of minority class = $\\frac{1000}{2 \\times 100} =5.0$\n",
    "\n",
    "\n",
    "* Manually assigning weights: Allows you to set specific penalties for misclassification of each class.\n",
    "\n",
    "**Optimalize Class Weight With GridCV (Cross Validation)**\n",
    "\n",
    "if you want to know the best weight class for your model, you should do cross validation. the common way, you can use GridCV to get best weight for the model.\n",
    "\n",
    "**Step-by-Step Implementation of GridSearchCV for Optimal Class Weights :**\n",
    "\n",
    "1. Import Relevant Packages (Mainly : sklearn.model_selction.GridSearchCV)\n",
    "2. Split Dataset as Train and Test Dataset\n",
    "3. define grid of weight class : These weights will be passed into GridSearchCV to identify the best weight combination.\n",
    "4. Initialize the model with class_weight\n",
    "5. Use GridSearchCV : Pass the model, parameter grid, and scoring metric into GridSearchCV\n",
    "6. Get the best class weights: After fitting, the best class weights can be accessed using best_params_\n",
    "7. Evaluate the model: Using the optimal class weights, make predictions on the test data and evaluate the model’s performance\n",
    "8. Adjust based on results: Depending on the performance, you can further tweak the weight ranges in the param_grid to improve the model.\n"
   ]
  },
  {
   "cell_type": "markdown",
   "metadata": {},
   "source": [
    "#### 6.1.1 Calculate Inverse Proportional Class Weight - Self Function & Scikit Learn Library"
   ]
  },
  {
   "cell_type": "code",
   "execution_count": 38,
   "metadata": {},
   "outputs": [
    {
     "name": "stdout",
     "output_type": "stream",
     "text": [
      "calculate weight class manually :\n",
      " 0 : 0.5008944364045667\n",
      " 1 : 280.0056179775281\n",
      "=============================================\n",
      "calculate weight class using logistic regression :\n",
      " 0 : 0.5008944364045667\n",
      " 1 : 280.0056179775281\n"
     ]
    }
   ],
   "source": [
    "# handling imbalanced dataset with weight class\n",
    "\n",
    "# 1. Inverse Proportional Class Weight \n",
    "\n",
    "## 1.a Calculate the inversly propotional class weight manually\n",
    "def inversely_class_weight (target_var) :\n",
    "    weight_dict = {}\n",
    "    unique_class = target_var.unique()\n",
    "    total_samples = len(target_var)\n",
    "    \n",
    "    for i in target_var.unique() :\n",
    "        class_count = len(target_var[target_var==i])\n",
    "        weight_dict[i] = total_samples / (len(unique_class) * class_count)\n",
    "        \n",
    "    return weight_dict\n",
    "\n",
    "## the weight of each class on y_raw_train data\n",
    "class_weight_manually = inversely_class_weight(y_raw_train)\n",
    "\n",
    "## 1.b Calculate the inversly propotional class weight using sklearn\n",
    "\n",
    "# import packages\n",
    "from sklearn.utils import class_weight\n",
    "\n",
    "# Calculate the inverse weight class using sklearn\n",
    "class_weight_sklearn = class_weight.compute_class_weight(class_weight='balanced', classes=np.unique(y_raw_train), y=y_raw_train)\n",
    "\n",
    "## Comparison\n",
    "print(f'calculate weight class manually :\\n 0 : {class_weight_manually[0]}\\n 1 : {class_weight_manually[1]}')\n",
    "print('==='*15)\n",
    "print(f'calculate weight class using logistic regression :\\n 0 : {class_weight_sklearn[0]}\\n 1 : {class_weight_sklearn[1]}')"
   ]
  },
  {
   "cell_type": "markdown",
   "metadata": {},
   "source": [
    "#### 6.1.2 Train Baseline with Apply Weight Class Train Dataset"
   ]
  },
  {
   "cell_type": "code",
   "execution_count": 41,
   "metadata": {},
   "outputs": [
    {
     "data": {
      "image/png": "[encoded data removed]",
      "text/plain": [
       "<Figure size 640x480 with 2 Axes>"
      ]
     },
     "metadata": {},
     "output_type": "display_data"
    },
    {
     "name": "stdout",
     "output_type": "stream",
     "text": [
      "              precision    recall  f1-score   support\n",
      "\n",
      "           0       1.00      0.97      0.99     85307\n",
      "           1       0.06      0.93      0.10       136\n",
      "\n",
      "    accuracy                           0.97     85443\n",
      "   macro avg       0.53      0.95      0.55     85443\n",
      "weighted avg       1.00      0.97      0.99     85443\n",
      "\n"
     ]
    },
    {
     "data": {
      "text/html": [
       "<div>\n",
       "<style scoped>\n",
       "    .dataframe tbody tr th:only-of-type {\n",
       "        vertical-align: middle;\n",
       "    }\n",
       "\n",
       "    .dataframe tbody tr th {\n",
       "        vertical-align: top;\n",
       "    }\n",
       "\n",
       "    .dataframe thead th {\n",
       "        text-align: right;\n",
       "    }\n",
       "</style>\n",
       "<table border=\"1\" class=\"dataframe\">\n",
       "  <thead>\n",
       "    <tr style=\"text-align: right;\">\n",
       "      <th></th>\n",
       "      <th>model</th>\n",
       "      <th>precision</th>\n",
       "      <th>recall</th>\n",
       "      <th>F1</th>\n",
       "      <th>accuracy</th>\n",
       "    </tr>\n",
       "  </thead>\n",
       "  <tbody>\n",
       "    <tr>\n",
       "      <th>0</th>\n",
       "      <td>wb</td>\n",
       "      <td>0.055166</td>\n",
       "      <td>0.926471</td>\n",
       "      <td>0.104132</td>\n",
       "      <td>0.974626</td>\n",
       "    </tr>\n",
       "  </tbody>\n",
       "</table>\n",
       "</div>"
      ],
      "text/plain": [
       "  model  precision    recall        F1  accuracy\n",
       "0    wb   0.055166  0.926471  0.104132  0.974626"
      ]
     },
     "execution_count": 41,
     "metadata": {},
     "output_type": "execute_result"
    }
   ],
   "source": [
    "# import packages\n",
    "from sklearn.linear_model import LogisticRegression\n",
    "\n",
    "# model\n",
    "clf = LogisticRegression(class_weight='balanced', random_state=42)\n",
    "\n",
    "# fit train dataset into model\n",
    "clf.fit(X_raw_train, y_raw_train)\n",
    "\n",
    "# predict test dataset\n",
    "wb_y_pred = clf.predict(X_raw_test)\n",
    "\n",
    "# evaluate the model\n",
    "wb_cm = confusion_matrix(y_true=y_raw_test, y_pred=wb_y_pred)\n",
    "disp_wb_cm = ConfusionMatrixDisplay(wb_cm, display_labels=np.where(clf.classes_ == 0, 'Others : 0', 'Fraud : 1'))\n",
    "disp_wb_cm.plot(cmap='Blues', values_format='.10g')\n",
    "plt.show()\n",
    "\n",
    "# print classification report\n",
    "print(classification_report(y_raw_test, wb_y_pred))\n",
    "make_results('wb', y_raw_test, wb_y_pred)"
   ]
  },
  {
   "cell_type": "markdown",
   "metadata": {},
   "source": [
    "#### 6.1.3 Apply Cross Validation Weight Class to Baseline Model\n",
    "\n",
    "Stages conducting CV Weight Class : \n",
    "\n",
    "1. Import Relevant Packages (Mainly : sklearn.model_selction.GridSearchCV)\n",
    "2. Split Dataset as Train and Test Dataset\n",
    "3. define grid of weight class : These weights will be passed into GridSearchCV to identify the best weight combination.\n",
    "4. Initialize the model with class_weight\n",
    "5. Use GridSearchCV : Pass the model, parameter grid, and scoring metric into GridSearchCV\n",
    "6. Get the best class weights: After fitting, the best class weights can be accessed using best_params_\n",
    "7. Evaluate the model: Using the optimal class weights, make predictions on the test data and evaluate the model’s performance\n",
    "8. Adjust based on results: Depending on the performance, you can further tweak the weight ranges in the param_grid to improve the model."
   ]
  },
  {
   "cell_type": "code",
   "execution_count": 42,
   "metadata": {},
   "outputs": [],
   "source": [
    "# 1. Import relevant pakcages : for some library, we have already done in the previous step, but we will add gridsearchcv module.\n",
    "from sklearn.model_selection import GridSearchCV\n",
    "\n",
    "# 2. Split Dataset as Train and Test Dataset : we have already done in the previous step\n",
    "\n",
    "# 3. Define Grid Search of Weight Class\n",
    "weight_class_grid_params = [{'class_weight': [{0: x, 1: 1 - x} for x in np.linspace(0.05, 0.95, 20)]}]\n",
    "\n",
    "# 4. Initialize Model with class_weight = we have already done in the previous step. in this case, we will use our baseline model\n",
    "cv_wb_model = model\n",
    "\n",
    "# 5. Use GridSearch CV\n",
    "cv_grid = GridSearchCV(cv_wb_model, param_grid=weight_class_grid_params, cv=5, scoring='f1')\n",
    "cv_grid_model = cv_grid.fit(X_raw_train, y_raw_train)\n",
    "\n",
    "## make a function to collect combination and score of grid search\n",
    "def make_cv_results(cv_grid_model):\n",
    "    # Initialize empty lists to collect scores and weights\n",
    "    weights_1 = []\n",
    "    weights_0 = []\n",
    "    scores = []\n",
    "    # Iterate over the grid search results\n",
    "    for idx, param in enumerate(cv_grid_model.cv_results_['params']):\n",
    "        # Collect the weight for class 1 from the parameter grid\n",
    "        weight_1_value = param['class_weight'][1]\n",
    "        weight_0_value = param['class_weight'][0]\n",
    "        score = cv_grid_model.cv_results_['mean_test_score'][idx]\n",
    "        # Append the weight and score to respective lists\n",
    "        weights_1.append(weight_1_value)\n",
    "        weights_0.append(weight_0_value)\n",
    "        scores.append(score)\n",
    "    # Create a DataFrame with the collected results\n",
    "    results = pd.DataFrame({'Weight Majority Class': weights_0, 'Weight Minority Class': weights_1, 'Score': scores})\n",
    "    return results"
   ]
  },
  {
   "cell_type": "code",
   "execution_count": 44,
   "metadata": {},
   "outputs": [
    {
     "data": {
      "image/png": "[encoded data removed]",
      "text/plain": [
       "<Figure size 640x480 with 2 Axes>"
      ]
     },
     "metadata": {},
     "output_type": "display_data"
    },
    {
     "name": "stdout",
     "output_type": "stream",
     "text": [
      "              precision    recall  f1-score   support\n",
      "\n",
      "           0       1.00      1.00      1.00     85307\n",
      "           1       0.82      0.81      0.81       136\n",
      "\n",
      "    accuracy                           1.00     85443\n",
      "   macro avg       0.91      0.90      0.91     85443\n",
      "weighted avg       1.00      1.00      1.00     85443\n",
      "\n"
     ]
    },
    {
     "data": {
      "text/html": [
       "<div>\n",
       "<style scoped>\n",
       "    .dataframe tbody tr th:only-of-type {\n",
       "        vertical-align: middle;\n",
       "    }\n",
       "\n",
       "    .dataframe tbody tr th {\n",
       "        vertical-align: top;\n",
       "    }\n",
       "\n",
       "    .dataframe thead th {\n",
       "        text-align: right;\n",
       "    }\n",
       "</style>\n",
       "<table border=\"1\" class=\"dataframe\">\n",
       "  <thead>\n",
       "    <tr style=\"text-align: right;\">\n",
       "      <th></th>\n",
       "      <th>model</th>\n",
       "      <th>precision</th>\n",
       "      <th>recall</th>\n",
       "      <th>F1</th>\n",
       "      <th>accuracy</th>\n",
       "    </tr>\n",
       "  </thead>\n",
       "  <tbody>\n",
       "    <tr>\n",
       "      <th>0</th>\n",
       "      <td>cv-class-weight-</td>\n",
       "      <td>0.820896</td>\n",
       "      <td>0.808824</td>\n",
       "      <td>0.814815</td>\n",
       "      <td>0.999415</td>\n",
       "    </tr>\n",
       "  </tbody>\n",
       "</table>\n",
       "</div>"
      ],
      "text/plain": [
       "              model  precision    recall        F1  accuracy\n",
       "0  cv-class-weight-   0.820896  0.808824  0.814815  0.999415"
      ]
     },
     "execution_count": 44,
     "metadata": {},
     "output_type": "execute_result"
    }
   ],
   "source": [
    "# 6. Get Best params\n",
    "cv_grid_model.best_params_\n",
    "\n",
    "# 7. Evaluate the model: Using the optimal class weights, make predictions on the test data and evaluate the model’s performance\n",
    "clf_best_params = LogisticRegression(**cv_grid_model.best_params_)\n",
    "clf_best_params.fit(X_raw_test, y_raw_test)\n",
    "best_params_y_pred = clf_best_params.predict(X_raw_test)\n",
    "\n",
    "# evaluate the model\n",
    "best_wb_cm = confusion_matrix(y_true=y_raw_test, y_pred=wb_y_pred)\n",
    "disp_best_wb_cm = ConfusionMatrixDisplay(best_wb_cm, display_labels=np.where(clf.classes_ == 0, 'Others : 0', 'Fraud : 1'))\n",
    "disp_best_wb_cm.plot(cmap='Blues')\n",
    "plt.show()\n",
    "\n",
    "# print classification report\n",
    "print(classification_report(y_raw_test, best_params_y_pred))\n",
    "make_results(\"cv-class-weight-\",y_raw_test,best_params_y_pred)"
   ]
  },
  {
   "cell_type": "markdown",
   "metadata": {},
   "source": [
    "## **7.Hybrid Methods**"
   ]
  },
  {
   "cell_type": "markdown",
   "metadata": {},
   "source": [
    "### **7.1 Combination of SMOTE and Tomek Links**\n",
    "\n",
    "**What is Combination of SMOTE and Tomek Link**\n",
    "\n",
    "This method combines the SMOTE ability to generate synthetic data for minority class and Tomek Links ability to remove the data that are identified as Tomek links from the majority class (that is, samples of data from the majority class that is closest with the minority class data).\n",
    "\n",
    "This combination leverages the strengths of both techniques to not only balance the classes but also clean the data and improve classification boundaries.\n",
    "\n",
    "**How the Combination Works**\n",
    "\n",
    "The Combination can be thought as a two step process (G**enerate Synthetics Miniroty Class** then, **Remove Overlapping on Majority Class**):\n",
    "\n",
    "1. SMOTE (Oversampling): First, SMOTE is applied to generate synthetic samples for the minority class. This increases the size of the minority class and reduces the imbalance in the dataset.\n",
    "\n",
    "2. Tomek Links (Cleaning): After SMOTE has been applied, Tomek Links are used to identify and remove overlapping or borderline samples from the majority class. This step ensures that the decision boundaries between classes are cleaner and less noisy, improving the classifier's ability to differentiate between the classes.\n",
    "\n",
    "**Advantages and Disadvantages of Using Combination SMOTE and Tomek Link**\n",
    "\n",
    "**Advantages**\n",
    "\n",
    "1. Balances Classes and Cleans Data\n",
    "2. Improves Classifier Performance\n",
    "3. Handles Both Imbalance and Overlap\n",
    "4. Maintains Minority Class Integrity\n",
    "\n",
    "**Disadvantages**\n",
    "\n",
    "1. Computationally Expensive\n",
    "2. Risk of Overfitting\n",
    "3. Tomek Links May Remove Important Data\n",
    "\n",
    "**Library SMOTE + Tomek Links Combination in Python**\n",
    "\n",
    "> imblearn.combine.SMOTETomek\n",
    "\n",
    "\n",
    "\n"
   ]
  },
  {
   "cell_type": "markdown",
   "metadata": {},
   "source": [
    "#### 7.1.1 Apply SMOTE + Tomek Links Method to Dataset"
   ]
  },
  {
   "cell_type": "code",
   "execution_count": 45,
   "metadata": {},
   "outputs": [
    {
     "data": {
      "image/png": "[encoded data removed]",
      "text/plain": [
       "<Figure size 640x480 with 1 Axes>"
      ]
     },
     "metadata": {},
     "output_type": "display_data"
    },
    {
     "name": "stdout",
     "output_type": "stream",
     "text": [
      "====================================================================================================\n"
     ]
    },
    {
     "data": {
      "text/plain": [
       "Class\n",
       "0    0.5\n",
       "1    0.5\n",
       "Name: proportion, dtype: float64"
      ]
     },
     "execution_count": 45,
     "metadata": {},
     "output_type": "execute_result"
    }
   ],
   "source": [
    "# Apply SMOTE + Tomek Links to Train Dataset\n",
    "# import packages\n",
    "from imblearn.combine import SMOTETomek\n",
    "\n",
    "# build smote + tomek links model\n",
    "smotetomek = SMOTETomek(sampling_strategy='auto')\n",
    "\n",
    "# fit train dataset into smote model\n",
    "smotetomek_x_train, smotetomek_y_train = smotetomek.fit_resample(X_raw_train,y_raw_train)\n",
    "\n",
    "# Plot the proportion of smote on target data train\n",
    "smotetomek_y_train_count = smotetomek_y_train.value_counts()\n",
    "\n",
    "# Bar plot\n",
    "smotetomek_y_train_count.plot(kind='bar', color=['powderblue', 'darkblue'], title='Others vs. Fraud')\n",
    "plt.xticks(ticks=[0, 1], labels=['Others', 'Fraud'], rotation=0)\n",
    "\n",
    "# Add label counts on top of the bars\n",
    "for i, count in enumerate(smotetomek_y_train_count):\n",
    "    plt.text(i, count + 2, str(count), ha='center', va='bottom', fontsize=10)\n",
    "\n",
    "# Show the plot\n",
    "plt.show()\n",
    "\n",
    "print(\"=====\"*20)\n",
    "\n",
    "# Display the class distribution in percentage\n",
    "smotetomek_y_train.value_counts(normalize=True)"
   ]
  },
  {
   "cell_type": "markdown",
   "metadata": {},
   "source": [
    "#### 7.1.2 Train Baseline Model with SMOTE + Tomek Links Dataset"
   ]
  },
  {
   "cell_type": "code",
   "execution_count": 48,
   "metadata": {},
   "outputs": [
    {
     "data": {
      "image/png": "[encoded data removed]",
      "text/plain": [
       "<Figure size 640x480 with 2 Axes>"
      ]
     },
     "metadata": {},
     "output_type": "display_data"
    },
    {
     "name": "stdout",
     "output_type": "stream",
     "text": [
      "              precision    recall  f1-score   support\n",
      "\n",
      "           0       1.00      0.98      0.99     85307\n",
      "           1       0.06      0.92      0.12       136\n",
      "\n",
      "    accuracy                           0.98     85443\n",
      "   macro avg       0.53      0.95      0.55     85443\n",
      "weighted avg       1.00      0.98      0.99     85443\n",
      "\n"
     ]
    },
    {
     "data": {
      "text/html": [
       "<div>\n",
       "<style scoped>\n",
       "    .dataframe tbody tr th:only-of-type {\n",
       "        vertical-align: middle;\n",
       "    }\n",
       "\n",
       "    .dataframe tbody tr th {\n",
       "        vertical-align: top;\n",
       "    }\n",
       "\n",
       "    .dataframe thead th {\n",
       "        text-align: right;\n",
       "    }\n",
       "</style>\n",
       "<table border=\"1\" class=\"dataframe\">\n",
       "  <thead>\n",
       "    <tr style=\"text-align: right;\">\n",
       "      <th></th>\n",
       "      <th>model</th>\n",
       "      <th>precision</th>\n",
       "      <th>recall</th>\n",
       "      <th>F1</th>\n",
       "      <th>accuracy</th>\n",
       "    </tr>\n",
       "  </thead>\n",
       "  <tbody>\n",
       "    <tr>\n",
       "      <th>0</th>\n",
       "      <td>smotetomek-train</td>\n",
       "      <td>0.064599</td>\n",
       "      <td>0.919118</td>\n",
       "      <td>0.120715</td>\n",
       "      <td>0.978688</td>\n",
       "    </tr>\n",
       "  </tbody>\n",
       "</table>\n",
       "</div>"
      ],
      "text/plain": [
       "              model  precision    recall        F1  accuracy\n",
       "0  smotetomek-train   0.064599  0.919118  0.120715  0.978688"
      ]
     },
     "execution_count": 48,
     "metadata": {},
     "output_type": "execute_result"
    }
   ],
   "source": [
    "# isolate target and feature tomek links dataset\n",
    "smotetomek_x_train,smotetomek_y_train = smotetomek_x_train, smotetomek_y_train\n",
    "\n",
    "# fit tomek links dataset to the model\n",
    "smotetomek_model_fit = model.fit(smotetomek_x_train, smotetomek_y_train)\n",
    "smotetomek_y_pred = smotetomek_model_fit.predict(X_raw_test)\n",
    "\n",
    "# evaluate the model\n",
    "smotetomek_cm = confusion_matrix(y_true=y_raw_test, y_pred=tomek_y_pred)\n",
    "disp_smotetomek_cm = ConfusionMatrixDisplay(smotetomek_cm, display_labels=np.where(smotetomek_model_fit.classes_ == 0, 'Others : 0', 'Fraud : 1'))\n",
    "disp_smotetomek_cm.plot(cmap='Blues', values_format='.10g')\n",
    "plt.show()\n",
    "\n",
    "# print classification report\n",
    "print(classification_report(y_raw_test, smotetomek_y_pred))\n",
    "make_results(\"smotetomek-train\",y_raw_test,smotetomek_y_pred)"
   ]
  },
  {
   "cell_type": "markdown",
   "metadata": {},
   "source": [
    "# **8. Performance Comparison**"
   ]
  },
  {
   "cell_type": "code",
   "execution_count": 49,
   "metadata": {},
   "outputs": [
    {
     "data": {
      "text/html": [
       "<style type=\"text/css\">\n",
       "#T_649e2_row0_col1, #T_649e2_row0_col4, #T_649e2_row4_col2, #T_649e2_row6_col3, #T_649e2_row6_col4 {\n",
       "  background-color: #08306b;\n",
       "  color: #f1f1f1;\n",
       "}\n",
       "#T_649e2_row0_col2, #T_649e2_row4_col1, #T_649e2_row4_col3, #T_649e2_row4_col4 {\n",
       "  background-color: #f7fbff;\n",
       "  color: #000000;\n",
       "}\n",
       "#T_649e2_row0_col3 {\n",
       "  background-color: #084990;\n",
       "  color: #f1f1f1;\n",
       "}\n",
       "#T_649e2_row1_col1 {\n",
       "  background-color: #f1f7fd;\n",
       "  color: #000000;\n",
       "}\n",
       "#T_649e2_row1_col2 {\n",
       "  background-color: #084e98;\n",
       "  color: #f1f1f1;\n",
       "}\n",
       "#T_649e2_row1_col3, #T_649e2_row3_col1 {\n",
       "  background-color: #eaf2fb;\n",
       "  color: #000000;\n",
       "}\n",
       "#T_649e2_row1_col4 {\n",
       "  background-color: #083d7f;\n",
       "  color: #f1f1f1;\n",
       "}\n",
       "#T_649e2_row2_col1 {\n",
       "  background-color: #ebf3fb;\n",
       "  color: #000000;\n",
       "}\n",
       "#T_649e2_row2_col2, #T_649e2_row5_col2 {\n",
       "  background-color: #0a549e;\n",
       "  color: #f1f1f1;\n",
       "}\n",
       "#T_649e2_row2_col3, #T_649e2_row5_col3 {\n",
       "  background-color: #dfebf7;\n",
       "  color: #000000;\n",
       "}\n",
       "#T_649e2_row2_col4, #T_649e2_row5_col4 {\n",
       "  background-color: #083776;\n",
       "  color: #f1f1f1;\n",
       "}\n",
       "#T_649e2_row3_col2, #T_649e2_row7_col2 {\n",
       "  background-color: #0f5aa3;\n",
       "  color: #f1f1f1;\n",
       "}\n",
       "#T_649e2_row3_col3 {\n",
       "  background-color: #dceaf6;\n",
       "  color: #000000;\n",
       "}\n",
       "#T_649e2_row3_col4, #T_649e2_row7_col4 {\n",
       "  background-color: #083674;\n",
       "  color: #f1f1f1;\n",
       "}\n",
       "#T_649e2_row5_col1 {\n",
       "  background-color: #eaf3fb;\n",
       "  color: #000000;\n",
       "}\n",
       "#T_649e2_row6_col1 {\n",
       "  background-color: #083877;\n",
       "  color: #f1f1f1;\n",
       "}\n",
       "#T_649e2_row6_col2 {\n",
       "  background-color: #6fb0d7;\n",
       "  color: #f1f1f1;\n",
       "}\n",
       "#T_649e2_row7_col1 {\n",
       "  background-color: #e8f1fa;\n",
       "  color: #000000;\n",
       "}\n",
       "#T_649e2_row7_col3 {\n",
       "  background-color: #dbe9f6;\n",
       "  color: #000000;\n",
       "}\n",
       "</style>\n",
       "<table id=\"T_649e2\">\n",
       "  <thead>\n",
       "    <tr>\n",
       "      <th class=\"blank level0\" >&nbsp;</th>\n",
       "      <th id=\"T_649e2_level0_col0\" class=\"col_heading level0 col0\" >model</th>\n",
       "      <th id=\"T_649e2_level0_col1\" class=\"col_heading level0 col1\" >precision</th>\n",
       "      <th id=\"T_649e2_level0_col2\" class=\"col_heading level0 col2\" >recall</th>\n",
       "      <th id=\"T_649e2_level0_col3\" class=\"col_heading level0 col3\" >F1</th>\n",
       "      <th id=\"T_649e2_level0_col4\" class=\"col_heading level0 col4\" >accuracy</th>\n",
       "    </tr>\n",
       "  </thead>\n",
       "  <tbody>\n",
       "    <tr>\n",
       "      <th id=\"T_649e2_level0_row0\" class=\"row_heading level0 row0\" >0</th>\n",
       "      <td id=\"T_649e2_row0_col0\" class=\"data row0 col0\" >baseline</td>\n",
       "      <td id=\"T_649e2_row0_col1\" class=\"data row0 col1\" >0.847619</td>\n",
       "      <td id=\"T_649e2_row0_col2\" class=\"data row0 col2\" >0.654412</td>\n",
       "      <td id=\"T_649e2_row0_col3\" class=\"data row0 col3\" >0.738589</td>\n",
       "      <td id=\"T_649e2_row0_col4\" class=\"data row0 col4\" >0.999263</td>\n",
       "    </tr>\n",
       "    <tr>\n",
       "      <th id=\"T_649e2_level0_row1\" class=\"row_heading level0 row1\" >1</th>\n",
       "      <td id=\"T_649e2_row1_col0\" class=\"data row1 col0\" >undersampling_method</td>\n",
       "      <td id=\"T_649e2_row1_col1\" class=\"data row1 col1\" >0.031227</td>\n",
       "      <td id=\"T_649e2_row1_col2\" class=\"data row1 col2\" >0.933824</td>\n",
       "      <td id=\"T_649e2_row1_col3\" class=\"data row1 col3\" >0.060433</td>\n",
       "      <td id=\"T_649e2_row1_col4\" class=\"data row1 col4\" >0.953782</td>\n",
       "    </tr>\n",
       "    <tr>\n",
       "      <th id=\"T_649e2_level0_row2\" class=\"row_heading level0 row2\" >2</th>\n",
       "      <td id=\"T_649e2_row2_col0\" class=\"data row2 col0\" >oversampling_method</td>\n",
       "      <td id=\"T_649e2_row2_col1\" class=\"data row2 col1\" >0.054287</td>\n",
       "      <td id=\"T_649e2_row2_col2\" class=\"data row2 col2\" >0.926471</td>\n",
       "      <td id=\"T_649e2_row2_col3\" class=\"data row2 col3\" >0.102564</td>\n",
       "      <td id=\"T_649e2_row2_col4\" class=\"data row2 col4\" >0.974193</td>\n",
       "    </tr>\n",
       "    <tr>\n",
       "      <th id=\"T_649e2_level0_row3\" class=\"row_heading level0 row3\" >3</th>\n",
       "      <td id=\"T_649e2_row3_col0\" class=\"data row3 col0\" >smote_method</td>\n",
       "      <td id=\"T_649e2_row3_col1\" class=\"data row3 col1\" >0.059467</td>\n",
       "      <td id=\"T_649e2_row3_col2\" class=\"data row3 col2\" >0.919118</td>\n",
       "      <td id=\"T_649e2_row3_col3\" class=\"data row3 col3\" >0.111707</td>\n",
       "      <td id=\"T_649e2_row3_col4\" class=\"data row3 col4\" >0.976733</td>\n",
       "    </tr>\n",
       "    <tr>\n",
       "      <th id=\"T_649e2_level0_row4\" class=\"row_heading level0 row4\" >4</th>\n",
       "      <td id=\"T_649e2_row4_col0\" class=\"data row4 col0\" >tomek_method</td>\n",
       "      <td id=\"T_649e2_row4_col1\" class=\"data row4 col1\" >0.001818</td>\n",
       "      <td id=\"T_649e2_row4_col2\" class=\"data row4 col2\" >0.970588</td>\n",
       "      <td id=\"T_649e2_row4_col3\" class=\"data row4 col3\" >0.003630</td>\n",
       "      <td id=\"T_649e2_row4_col4\" class=\"data row4 col4\" >0.151856</td>\n",
       "    </tr>\n",
       "    <tr>\n",
       "      <th id=\"T_649e2_level0_row5\" class=\"row_heading level0 row5\" >5</th>\n",
       "      <td id=\"T_649e2_row5_col0\" class=\"data row5 col0\" >weight_class_method</td>\n",
       "      <td id=\"T_649e2_row5_col1\" class=\"data row5 col1\" >0.055166</td>\n",
       "      <td id=\"T_649e2_row5_col2\" class=\"data row5 col2\" >0.926471</td>\n",
       "      <td id=\"T_649e2_row5_col3\" class=\"data row5 col3\" >0.104132</td>\n",
       "      <td id=\"T_649e2_row5_col4\" class=\"data row5 col4\" >0.974626</td>\n",
       "    </tr>\n",
       "    <tr>\n",
       "      <th id=\"T_649e2_level0_row6\" class=\"row_heading level0 row6\" >6</th>\n",
       "      <td id=\"T_649e2_row6_col0\" class=\"data row6 col0\" >weight_class_method_with_cross_validation</td>\n",
       "      <td id=\"T_649e2_row6_col1\" class=\"data row6 col1\" >0.820896</td>\n",
       "      <td id=\"T_649e2_row6_col2\" class=\"data row6 col2\" >0.808824</td>\n",
       "      <td id=\"T_649e2_row6_col3\" class=\"data row6 col3\" >0.814815</td>\n",
       "      <td id=\"T_649e2_row6_col4\" class=\"data row6 col4\" >0.999415</td>\n",
       "    </tr>\n",
       "    <tr>\n",
       "      <th id=\"T_649e2_level0_row7\" class=\"row_heading level0 row7\" >7</th>\n",
       "      <td id=\"T_649e2_row7_col0\" class=\"data row7 col0\" >smote_tomek_method</td>\n",
       "      <td id=\"T_649e2_row7_col1\" class=\"data row7 col1\" >0.064599</td>\n",
       "      <td id=\"T_649e2_row7_col2\" class=\"data row7 col2\" >0.919118</td>\n",
       "      <td id=\"T_649e2_row7_col3\" class=\"data row7 col3\" >0.120715</td>\n",
       "      <td id=\"T_649e2_row7_col4\" class=\"data row7 col4\" >0.978688</td>\n",
       "    </tr>\n",
       "  </tbody>\n",
       "</table>\n"
      ],
      "text/plain": [
       "<pandas.io.formats.style.Styler at 0x1a4b741d0>"
      ]
     },
     "execution_count": 49,
     "metadata": {},
     "output_type": "execute_result"
    }
   ],
   "source": [
    "\n",
    "# raw dataset or doesnt apply any imbalanced handling method\n",
    "baseline_model = make_results(model_name='baseline',y_true=y_raw_test, y_pred=y_raw_pred)\n",
    "\n",
    "# apply undersampling method\n",
    "undersampling_method = make_results(model_name='undersampling_method',y_true=y_raw_test, y_pred=downsampling_y_pred)\n",
    "\n",
    "# apply oversampling method\n",
    "oversampling_method = make_results(model_name='oversampling_method',y_true=y_raw_test, y_pred=oversampling_y_pred)\n",
    "\n",
    "# apply SMOTE method\n",
    "smote_method = make_results(model_name='smote_method',y_true=y_raw_test, y_pred=smote_y_pred)\n",
    "\n",
    "# apply tomek links method\n",
    "tomek_method = make_results(model_name='tomek_method',y_true=y_raw_test, y_pred=tomek_y_pred)\n",
    "\n",
    "# apply weight class method - inverse proportional\n",
    "wb_method = make_results(model_name='weight_class_method',y_true=y_raw_test, y_pred=wb_y_pred)\n",
    "\n",
    "# apply weight class method - grid search cross validation\n",
    "best_wb_method = make_results(model_name='weight_class_method_with_cross_validation',y_true=y_raw_test, y_pred=best_params_y_pred)\n",
    "\n",
    "# apply smote+tomek link method\n",
    "smotetomek_method = make_results(model_name='smote_tomek_method',y_true=y_raw_test, y_pred=smotetomek_y_pred)\n",
    "\n",
    "\n",
    "collect_results = pd.concat([baseline_model,undersampling_method, oversampling_method, smote_method, tomek_method ,wb_method, best_wb_method, smotetomek_method]).reset_index(drop=True)\n",
    "\n",
    "# Show Results Comparison\n",
    "collect_results.style.background_gradient(cmap='Blues', axis =0)\n"
   ]
  },
  {
   "cell_type": "markdown",
   "metadata": {},
   "source": [
    "# 9. **Conclusion**\n",
    "\n",
    "Best Approach: The Weighted Class Method with Cross-Validation performs the best, achieving a good balance between precision, recall, F1 score, and accuracy. This model avoids overfitting and generalizes well.\n",
    "\n",
    "High Recall Methods: Techniques like undersampling, oversampling, SMOTE, and Tomek Links tend to maximize recall at the expense of precision, leading to many false positives.\n",
    "\n",
    "Tomek Links: This method shows a drastic drop in accuracy and F1 score, indicating it might not be suitable for your dataset."
   ]
  },
  {
   "cell_type": "markdown",
   "metadata": {},
   "source": [
    "# **10. Disclaimer**\n",
    "\n",
    "Our Focus is learn how to handle imbalanced dataset, many result from some technique look drop in our metric evaluation. but, if you want to improve the result, we should tuning the hyperparameter and do croos validation :)\n",
    "\n"
   ]
  },
  {
   "cell_type": "markdown",
   "metadata": {},
   "source": [
    "# **Reference**\n",
    "\n",
    "1. Best Technique and Metrics for Imbalanced Dataset - Marcin Rutecki :  [Metrics for imbalanced data](https://www.kaggle.com/code/marcinrutecki/best-techniques-and-metrics-for-imbalanced-dataset#1.-Introduction)\n",
    "\n",
    "2. Machine Learning Design Patterns - Book by Michael Munn, Sara Robinson, and Valliappa Lakshmana\n",
    "\n",
    "3. Balancing Act: Mastering Imbalanced Data with SMOTE and TOMEK-Link Strategies - \n",
    "Niranjan Appaji [Balancing Act: Mastering Imbalanced Data with SMOTE and TOMEK-Link Strategies](https://medium.com/@niranjan.appaji/balancing-act-mastering-imbalanced-data-with-smote-and-tomek-link-strategies-289f39597122)\n"
   ]
  }
 ],
 "metadata": {
  "kernelspec": {
   "display_name": "myenv",
   "language": "python",
   "name": "python3"
  },
  "language_info": {
   "codemirror_mode": {
    "name": "ipython",
    "version": 3
   },
   "file_extension": ".py",
   "mimetype": "text/x-python",
   "name": "python",
   "nbconvert_exporter": "python",
   "pygments_lexer": "ipython3",
   "version": "3.12.4"
  }
 },
 "nbformat": 4,
 "nbformat_minor": 2
}
